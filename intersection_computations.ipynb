{
 "cells": [
  {
   "cell_type": "code",
   "execution_count": null,
   "id": "a315cac2",
   "metadata": {},
   "outputs": [],
   "source": [
    "from sympy import Matrix, ZZ, CC, symbols\n",
    "from sympy.matrices.normalforms import smith_normal_form"
   ]
  },
  {
   "cell_type": "code",
   "execution_count": 3,
   "id": "23a0b7a2",
   "metadata": {},
   "outputs": [
    {
     "name": "stdout",
     "output_type": "stream",
     "text": [
      "Matrix([[-1, 0, 0, 0, 0, 0, 0], [0, -1, 0, 0, 0, 0, 0], [0, 0, -1, 0, 0, 0, 0], [0, 0, 0, 1, 0, 0, 0], [0, 0, 0, 0, 1, 0, 0], [0, 0, 0, 0, 0, -1, 0], [0, 0, 0, 0, 0, 0, -1]])\n",
      "-1\n"
     ]
    }
   ],
   "source": [
    "Mp1 = Matrix([\n",
    "    [-1,1,0,0,0,0,1],\n",
    "    [1,-2,1,0,0,0,0],\n",
    "    [0,1,-2,1,0,0,0],\n",
    "    [0,0,1,-1,1,0,0],\n",
    "    [0,0,0,1,-2,1,0],\n",
    "    [0,0,0,0,1,-1,1],\n",
    "    [1,0,0,0,0,1,-2]\n",
    "])\n",
    "\n",
    "snf1 = smith_normal_form(Mp1, domain=ZZ)\n",
    "print(snf1)\n",
    "print(snf1.det())\n"
   ]
  },
  {
   "cell_type": "code",
   "execution_count": 4,
   "id": "f71dc24f",
   "metadata": {},
   "outputs": [
    {
     "name": "stdout",
     "output_type": "stream",
     "text": [
      "Matrix([[-1, 0, 0, 0, 0, 0], [0, -1, 0, 0, 0, 0], [0, 0, 1, 0, 0, 0], [0, 0, 0, 1, 0, 0], [0, 0, 0, 0, -1, 0], [0, 0, 0, 0, 0, -2]])\n",
      "2\n"
     ]
    }
   ],
   "source": [
    "Mp2 = Matrix([\n",
    "    [-1,1,0,0,0,1],\n",
    "    [1,-2,1,0,0,0],\n",
    "    [0,1,-1,1,0,0],\n",
    "    [0,0,1,-2,1,0],\n",
    "    [0,0,0,1,-1,1],\n",
    "    [1,0,0,0,1,-2],\n",
    "])\n",
    "\n",
    "\n",
    "snf2 = smith_normal_form(Mp2, domain=ZZ)\n",
    "print(snf2)\n",
    "print(snf2.det())"
   ]
  },
  {
   "cell_type": "code",
   "execution_count": 6,
   "id": "88580582",
   "metadata": {},
   "outputs": [
    {
     "name": "stdout",
     "output_type": "stream",
     "text": [
      "Matrix([[-1, 0, 0, 0, 0], [0, 1, 0, 0, 0], [0, 0, 1, 0, 0], [0, 0, 0, -2, 0], [0, 0, 0, 0, -2]])\n",
      "-4\n"
     ]
    }
   ],
   "source": [
    "Mp3d6 = Matrix([\n",
    "    [-1,1,0,0,1],\n",
    "    [1,-1,1,0,0],\n",
    "    [0,1,-1,1,0],\n",
    "    [0,0,1,-2,1],\n",
    "    [1,0,0,1,-2],\n",
    "])\n",
    "\n",
    "\n",
    "snf3d6 = smith_normal_form(Mp3d6, domain=ZZ)\n",
    "print(snf3d6)\n",
    "print(snf3d6.det())"
   ]
  },
  {
   "cell_type": "code",
   "execution_count": 8,
   "id": "4021b0b1",
   "metadata": {},
   "outputs": [
    {
     "name": "stdout",
     "output_type": "stream",
     "text": [
      "Matrix([[-1, 0, 0, 0, 0, 0], [0, 1, 0, 0, 0, 0], [0, 0, 1, 0, 0, 0], [0, 0, 0, 1, 0, 0], [0, 0, 0, 0, 1, 0], [0, 0, 0, 0, 0, -4]])\n",
      "4\n"
     ]
    }
   ],
   "source": [
    "Mp3d7 = Matrix([\n",
    "    [-1,1,0,0,0,1],\n",
    "    [1,-1,1,0,0,0],\n",
    "    [0,1,-1,1,0,0],\n",
    "    [0,0,1,-2,1,0],\n",
    "    [0,0,0,1,-2,1],\n",
    "    [1,0,0,0,1,-2]\n",
    "])\n",
    "snf3d6 = smith_normal_form(Mp3d7, domain=ZZ)\n",
    "print(snf3d6)\n",
    "print(snf3d6.det())"
   ]
  },
  {
   "cell_type": "code",
   "execution_count": 9,
   "id": "8175c88c",
   "metadata": {},
   "outputs": [
    {
     "name": "stdout",
     "output_type": "stream",
     "text": [
      "Matrix([[-1, 0, 0, 0, 0, 0, 0], [0, 1, 0, 0, 0, 0, 0], [0, 0, 1, 0, 0, 0, 0], [0, 0, 0, 1, 0, 0, 0], [0, 0, 0, 0, 1, 0, 0], [0, 0, 0, 0, 0, 2, 0], [0, 0, 0, 0, 0, 0, -2]])\n",
      "4\n"
     ]
    }
   ],
   "source": [
    "Mp3d8 = Matrix([\n",
    "    [-1,1,0,0,0,0,1],\n",
    "    [1,-1,1,0,0,0,0],\n",
    "    [0,1,-1,1,0,0,0],\n",
    "    [0,0,1,-2,1,0,0],\n",
    "    [0,0,0,1,-2,1,0],\n",
    "    [0,0,0,0,1,-2,1],\n",
    "    [1,0,0,0,0,1,-2]\n",
    "])\n",
    "\n",
    "snfp3d8  = smith_normal_form(Mp3d8, domain=ZZ)\n",
    "print(snfp3d8)\n",
    "print(snfp3d8.det())"
   ]
  },
  {
   "cell_type": "code",
   "execution_count": 5,
   "id": "959c67af",
   "metadata": {},
   "outputs": [
    {
     "name": "stdout",
     "output_type": "stream",
     "text": [
      "Matrix([[-1, 0, 0, 0, 0], [0, 1, 0, 0, 0], [0, 0, 1, 0, 0], [0, 0, 0, -1, 0], [0, 0, 0, 0, -3]])\n",
      "-3\n",
      "3\n"
     ]
    }
   ],
   "source": [
    "Mp4 = Matrix([\n",
    "    [-1,1,0,0,1],\n",
    "    [1,-1,1,0,0],\n",
    "    [0,1,-2,1,0],\n",
    "    [0,0,1,-1,1],\n",
    "    [1,0,0,1,-2],\n",
    "])\n",
    "snf4 = smith_normal_form(Mp4, domain=ZZ)\n",
    "print(snf4)\n",
    "print(snf4.det())\n",
    "print(Mp4.det())"
   ]
  },
  {
   "cell_type": "code",
   "execution_count": 10,
   "id": "ed1d84aa",
   "metadata": {},
   "outputs": [
    {
     "name": "stdout",
     "output_type": "stream",
     "text": [
      "Matrix([[-1, 0, 0, 0], [0, 1, 0, 0], [0, 0, 1, 0], [0, 0, 0, -4]])\n",
      "4\n"
     ]
    }
   ],
   "source": [
    "Mp5 = Matrix([\n",
    "    [-1,1,0,1],\n",
    "    [1,-1,1,0],\n",
    "    [0,1,-1,1],\n",
    "    [1,0,1,-2],\n",
    "])\n",
    "snf5 = smith_normal_form(Mp5, domain=ZZ)\n",
    "print(snf5)\n",
    "print(snf5.det())"
   ]
  },
  {
   "cell_type": "code",
   "execution_count": 11,
   "id": "3e2eb1a7",
   "metadata": {},
   "outputs": [
    {
     "name": "stdout",
     "output_type": "stream",
     "text": [
      "Matrix([[-1, 0, 0], [0, 2, 0], [0, 0, 2]])\n",
      "-4\n"
     ]
    }
   ],
   "source": [
    "Mp6 = Matrix([\n",
    "    [-1,1,1],\n",
    "    [1,-1,1],\n",
    "    [1,1,-1]])\n",
    "snfp6 = smith_normal_form(Mp6, domain=ZZ)\n",
    "print(snfp6)\n",
    "print(snfp6.det())"
   ]
  }
 ],
 "metadata": {
  "kernelspec": {
   "display_name": "SageMath 10.2",
   "language": "sage",
   "name": "sagemath-10.2"
  },
  "language_info": {
   "codemirror_mode": {
    "name": "ipython",
    "version": 3
   },
   "file_extension": ".py",
   "mimetype": "text/x-python",
   "name": "python",
   "nbconvert_exporter": "python",
   "pygments_lexer": "ipython3",
   "version": "3.11.1"
  }
 },
 "nbformat": 4,
 "nbformat_minor": 5
}

{
 "cells": [
  {
   "cell_type": "code",
   "execution_count": 11,
   "id": "a315cac2",
   "metadata": {
    "vscode": {
     "languageId": "python"
    }
   },
   "outputs": [],
   "source": [
    "from sympy import Matrix, ZZ, CC, symbols\n",
    "from sympy.matrices.normalforms import smith_normal_form\n"
   ]
  },
  {
   "cell_type": "code",
   "execution_count": 12,
   "id": "23a0b7a2",
   "metadata": {
    "vscode": {
     "languageId": "python"
    }
   },
   "outputs": [
    {
     "ename": "NonPositiveDefiniteMatrixError",
     "evalue": "Matrix must be positive-definite",
     "output_type": "error",
     "traceback": [
      "\u001b[0;31m---------------------------------------------------------------------------\u001b[0m",
      "\u001b[0;31mNonPositiveDefiniteMatrixError\u001b[0m            Traceback (most recent call last)",
      "Cell \u001b[0;32mIn [12], line 12\u001b[0m\n\u001b[1;32m      1\u001b[0m Mp1 \u001b[38;5;241m=\u001b[39m Matrix([\n\u001b[1;32m      2\u001b[0m     [\u001b[38;5;241m-\u001b[39mInteger(\u001b[38;5;241m1\u001b[39m),Integer(\u001b[38;5;241m1\u001b[39m),Integer(\u001b[38;5;241m0\u001b[39m),Integer(\u001b[38;5;241m0\u001b[39m),Integer(\u001b[38;5;241m0\u001b[39m),Integer(\u001b[38;5;241m0\u001b[39m),Integer(\u001b[38;5;241m1\u001b[39m)],\n\u001b[1;32m      3\u001b[0m     [Integer(\u001b[38;5;241m1\u001b[39m),\u001b[38;5;241m-\u001b[39mInteger(\u001b[38;5;241m2\u001b[39m),Integer(\u001b[38;5;241m1\u001b[39m),Integer(\u001b[38;5;241m0\u001b[39m),Integer(\u001b[38;5;241m0\u001b[39m),Integer(\u001b[38;5;241m0\u001b[39m),Integer(\u001b[38;5;241m0\u001b[39m)],\n\u001b[0;32m   (...)\u001b[0m\n\u001b[1;32m      8\u001b[0m     [Integer(\u001b[38;5;241m1\u001b[39m),Integer(\u001b[38;5;241m0\u001b[39m),Integer(\u001b[38;5;241m0\u001b[39m),Integer(\u001b[38;5;241m0\u001b[39m),Integer(\u001b[38;5;241m0\u001b[39m),Integer(\u001b[38;5;241m1\u001b[39m),\u001b[38;5;241m-\u001b[39mInteger(\u001b[38;5;241m2\u001b[39m)]\n\u001b[1;32m      9\u001b[0m ])\n\u001b[1;32m     11\u001b[0m snf1 \u001b[38;5;241m=\u001b[39m smith_normal_form(Mp1, domain\u001b[38;5;241m=\u001b[39mZZ)\n\u001b[0;32m---> 12\u001b[0m c1 \u001b[38;5;241m=\u001b[39m \u001b[43mMp1\u001b[49m\u001b[38;5;241;43m.\u001b[39;49m\u001b[43mcholesky\u001b[49m\u001b[43m(\u001b[49m\u001b[43m)\u001b[49m\n\u001b[1;32m     13\u001b[0m \u001b[38;5;28mprint\u001b[39m(snf1)\n\u001b[1;32m     14\u001b[0m \u001b[38;5;28mprint\u001b[39m(snf1\u001b[38;5;241m.\u001b[39mdet())\n",
      "File \u001b[0;32m~/sage/sage-10.2/local/var/lib/sage/venv-python3.11.1/lib/python3.11/site-packages/sympy/matrices/dense.py:80\u001b[0m, in \u001b[0;36mDenseMatrix.cholesky\u001b[0;34m(self, hermitian)\u001b[0m\n\u001b[1;32m     79\u001b[0m \u001b[38;5;28;01mdef\u001b[39;00m \u001b[38;5;21mcholesky\u001b[39m(\u001b[38;5;28mself\u001b[39m, hermitian\u001b[38;5;241m=\u001b[39m\u001b[38;5;28;01mTrue\u001b[39;00m):\n\u001b[0;32m---> 80\u001b[0m     \u001b[38;5;28;01mreturn\u001b[39;00m \u001b[43m_cholesky\u001b[49m\u001b[43m(\u001b[49m\u001b[38;5;28;43mself\u001b[39;49m\u001b[43m,\u001b[49m\u001b[43m \u001b[49m\u001b[43mhermitian\u001b[49m\u001b[38;5;241;43m=\u001b[39;49m\u001b[43mhermitian\u001b[49m\u001b[43m)\u001b[49m\n",
      "File \u001b[0;32m~/sage/sage-10.2/local/var/lib/sage/venv-python3.11.1/lib/python3.11/site-packages/sympy/matrices/decompositions.py:274\u001b[0m, in \u001b[0;36m_cholesky\u001b[0;34m(M, hermitian)\u001b[0m\n\u001b[1;32m    270\u001b[0m         Lii2 \u001b[38;5;241m=\u001b[39m (M[i, i] \u001b[38;5;241m-\u001b[39m\n\u001b[1;32m    271\u001b[0m             \u001b[38;5;28msum\u001b[39m(L[i, k]\u001b[38;5;241m*\u001b[39mL[i, k]\u001b[38;5;241m.\u001b[39mconjugate() \u001b[38;5;28;01mfor\u001b[39;00m k \u001b[38;5;129;01min\u001b[39;00m \u001b[38;5;28mrange\u001b[39m(i)))\n\u001b[1;32m    273\u001b[0m         \u001b[38;5;28;01mif\u001b[39;00m Lii2\u001b[38;5;241m.\u001b[39mis_positive \u001b[38;5;129;01mis\u001b[39;00m \u001b[38;5;28;01mFalse\u001b[39;00m:\n\u001b[0;32m--> 274\u001b[0m             \u001b[38;5;28;01mraise\u001b[39;00m NonPositiveDefiniteMatrixError(\n\u001b[1;32m    275\u001b[0m                 \u001b[38;5;124m\"\u001b[39m\u001b[38;5;124mMatrix must be positive-definite\u001b[39m\u001b[38;5;124m\"\u001b[39m)\n\u001b[1;32m    277\u001b[0m         L[i, i] \u001b[38;5;241m=\u001b[39m sqrt(Lii2)\n\u001b[1;32m    279\u001b[0m \u001b[38;5;28;01melse\u001b[39;00m:\n",
      "\u001b[0;31mNonPositiveDefiniteMatrixError\u001b[0m: Matrix must be positive-definite"
     ]
    }
   ],
   "source": [
    "Mp1 = Matrix([\n",
    "    [-1,1,0,0,0,0,1],\n",
    "    [1,-2,1,0,0,0,0],\n",
    "    [0,1,-2,1,0,0,0],\n",
    "    [0,0,1,-1,1,0,0],\n",
    "    [0,0,0,1,-2,1,0],\n",
    "    [0,0,0,0,1,-1,1],\n",
    "    [1,0,0,0,0,1,-2]\n",
    "])\n",
    "\n",
    "snf1 = smith_normal_form(Mp1, domain=ZZ)\n",
    "c1 = Mp1.cholesky()\n",
    "print(snf1)\n",
    "print(snf1.det())\n"
   ]
  },
  {
   "cell_type": "code",
   "execution_count": 6,
   "id": "f71dc24f",
   "metadata": {
    "vscode": {
     "languageId": "python"
    }
   },
   "outputs": [
    {
     "name": "stdout",
     "output_type": "stream",
     "text": [
      "Matrix([[-1, 0, 0, 0, 0, 0], [0, -1, 0, 0, 0, 0], [0, 0, 1, 0, 0, 0], [0, 0, 0, 1, 0, 0], [0, 0, 0, 0, -1, 0], [0, 0, 0, 0, 0, -2]])\n",
      "2\n"
     ]
    }
   ],
   "source": [
    "Mp2 = Matrix([\n",
    "    [-1,1,0,0,0,1],\n",
    "    [1,-2,1,0,0,0],\n",
    "    [0,1,-1,1,0,0],\n",
    "    [0,0,1,-2,1,0],\n",
    "    [0,0,0,1,-1,1],\n",
    "    [1,0,0,0,1,-2],\n",
    "])\n",
    "\n",
    "\n",
    "\n",
    "snf2 = smith_normal_form(Mp2, domain=ZZ)\n",
    "print(snf2)\n",
    "print(snf2.det())"
   ]
  },
  {
   "cell_type": "code",
   "execution_count": 13,
   "id": "88580582",
   "metadata": {
    "vscode": {
     "languageId": "python"
    }
   },
   "outputs": [
    {
     "name": "stdout",
     "output_type": "stream",
     "text": [
      "Matrix([[-1, 0, 0, 0, 0], [0, 1, 0, 0, 0], [0, 0, 1, 0, 0], [0, 0, 0, -2, 0], [0, 0, 0, 0, -2]])\n",
      "-4\n"
     ]
    }
   ],
   "source": [
    "Mp3d6 = Matrix([\n",
    "    [-1,1,0,0,1],\n",
    "    [1,-1,1,0,0],\n",
    "    [0,1,-1,1,0],\n",
    "    [0,0,1,-2,1],\n",
    "    [1,0,0,1,-2],\n",
    "])\n",
    "\n",
    "\n",
    "snf3d6 = smith_normal_form(Mp3d6, domain=ZZ)\n",
    "print(snf3d6)\n",
    "print(snf3d6.det())"
   ]
  },
  {
   "cell_type": "code",
   "execution_count": 8,
   "id": "4021b0b1",
   "metadata": {
    "vscode": {
     "languageId": "python"
    }
   },
   "outputs": [
    {
     "name": "stdout",
     "output_type": "stream",
     "text": [
      "Matrix([[-1, 0, 0, 0, 0, 0], [0, 1, 0, 0, 0, 0], [0, 0, 1, 0, 0, 0], [0, 0, 0, 1, 0, 0], [0, 0, 0, 0, 1, 0], [0, 0, 0, 0, 0, -4]])\n",
      "4\n"
     ]
    }
   ],
   "source": [
    "Mp3d7 = Matrix([\n",
    "    [-1,1,0,0,0,1],\n",
    "    [1,-1,1,0,0,0],\n",
    "    [0,1,-1,1,0,0],\n",
    "    [0,0,1,-2,1,0],\n",
    "    [0,0,0,1,-2,1],\n",
    "    [1,0,0,0,1,-2]\n",
    "])\n",
    "snf3d6 = smith_normal_form(Mp3d7, domain=ZZ)\n",
    "print(snf3d6)\n",
    "print(snf3d6.det())"
   ]
  },
  {
   "cell_type": "code",
   "execution_count": 7,
   "id": "8175c88c",
   "metadata": {
    "vscode": {
     "languageId": "python"
    }
   },
   "outputs": [
    {
     "name": "stdout",
     "output_type": "stream",
     "text": [
      "Matrix([[-1, 0, 0, 0, 0, 0, 0], [0, 1, 0, 0, 0, 0, 0], [0, 0, 1, 0, 0, 0, 0], [0, 0, 0, 1, 0, 0, 0], [0, 0, 0, 0, 1, 0, 0], [0, 0, 0, 0, 0, 2, 0], [0, 0, 0, 0, 0, 0, -2]])\n",
      "4\n"
     ]
    }
   ],
   "source": [
    "Mp3d8 = Matrix([\n",
    "    [-1,1,0,0,0,0,1],\n",
    "    [1,-1,1,0,0,0,0],\n",
    "    [0,1,-1,1,0,0,0],\n",
    "    [0,0,1,-2,1,0,0],\n",
    "    [0,0,0,1,-2,1,0],\n",
    "    [0,0,0,0,1,-2,1],\n",
    "    [1,0,0,0,0,1,-2]\n",
    "])\n",
    "\n",
    "\n",
    "\n",
    "\n",
    "\n",
    "\n",
    "snfp3d8  = smith_normal_form(Mp3d8, domain=ZZ)\n",
    "print(snfp3d8)\n",
    "print(snfp3d8.det())"
   ]
  },
  {
   "cell_type": "code",
   "execution_count": 50,
   "id": "251755e5",
   "metadata": {
    "vscode": {
     "languageId": "python"
    }
   },
   "outputs": [
    {
     "name": "stdout",
     "output_type": "stream",
     "text": [
      "Matrix([[1, 0, 0, 0, 0, 0, 0], [0, 1, 0, 0, 0, 0, 0], [0, 0, 1, 0, 0, 0, 0], [0, 0, 0, 1, 0, 0, 0], [0, 0, 0, 0, 1, 0, 0], [0, 0, 0, 0, 0, -1, 0], [0, 0, 0, 0, 0, 0, 1]])\n"
     ]
    }
   ],
   "source": [
    "Q = Matrix([\n",
    "    [0,1,-1,1,0,0,0],\n",
    "    [0,0,1,-2,1,0,0],\n",
    "    [0,0,0,1,-2,1,0],\n",
    "    [0,0,0,0,1,-2,1],\n",
    "    [1,0,0,0,0,1,-2],\n",
    "    [1,0,0,0,0,0,0],\n",
    "    [0,1,0,0,0,0,0]\n",
    "])\n",
    "\n",
    "print(smith_normal_form(Q, domain=ZZ))"
   ]
  },
  {
   "cell_type": "code",
   "execution_count": 5,
   "id": "959c67af",
   "metadata": {
    "vscode": {
     "languageId": "python"
    }
   },
   "outputs": [
    {
     "name": "stdout",
     "output_type": "stream",
     "text": [
      "Matrix([[-1, 0, 0, 0, 0], [0, 1, 0, 0, 0], [0, 0, 1, 0, 0], [0, 0, 0, -1, 0], [0, 0, 0, 0, -3]])\n",
      "-3\n",
      "3\n"
     ]
    }
   ],
   "source": [
    "Mp4 = Matrix([\n",
    "    [-1,1,0,0,1],\n",
    "    [1,-1,1,0,0],\n",
    "    [0,1,-2,1,0],\n",
    "    [0,0,1,-1,1],\n",
    "    [1,0,0,1,-2],\n",
    "])\n",
    "snf4 = smith_normal_form(Mp4, domain=ZZ)\n",
    "print(snf4)\n",
    "print(snf4.det())\n",
    "print(Mp4.det())"
   ]
  },
  {
   "cell_type": "code",
   "execution_count": 10,
   "id": "ed1d84aa",
   "metadata": {
    "vscode": {
     "languageId": "python"
    }
   },
   "outputs": [
    {
     "name": "stdout",
     "output_type": "stream",
     "text": [
      "Matrix([[-1, 0, 0, 0], [0, 1, 0, 0], [0, 0, 1, 0], [0, 0, 0, -4]])\n",
      "4\n"
     ]
    }
   ],
   "source": [
    "Mp5 = Matrix([\n",
    "    [-1,1,0,1],\n",
    "    [1,-1,1,0],\n",
    "    [0,1,-1,1],\n",
    "    [1,0,1,-2],\n",
    "])\n",
    "snf5 = smith_normal_form(Mp5, domain=ZZ)\n",
    "print(snf5)\n",
    "print(snf5.det())"
   ]
  },
  {
   "cell_type": "code",
   "execution_count": 11,
   "id": "3e2eb1a7",
   "metadata": {
    "vscode": {
     "languageId": "python"
    }
   },
   "outputs": [
    {
     "name": "stdout",
     "output_type": "stream",
     "text": [
      "Matrix([[-1, 0, 0], [0, 2, 0], [0, 0, 2]])\n",
      "-4\n"
     ]
    }
   ],
   "source": [
    "Mp6 = Matrix([\n",
    "    [-1,1,1],\n",
    "    [1,-1,1],\n",
    "    [1,1,-1]])\n",
    "snfp6 = smith_normal_form(Mp6, domain=ZZ)\n",
    "print(snfp6)\n",
    "print(snfp6.det())"
   ]
  }
 ],
 "metadata": {
  "kernelspec": {
   "display_name": "SageMath 10.2",
   "language": "sage",
   "name": "sagemath-10.2"
  },
  "language_info": {
   "codemirror_mode": {
    "name": "ipython",
    "version": 3
   },
   "file_extension": ".py",
   "mimetype": "text/x-python",
   "name": "sage",
   "nbconvert_exporter": "python",
   "pygments_lexer": "ipython3",
   "version": "3.11.1"
  }
 },
 "nbformat": 4,
 "nbformat_minor": 5
}

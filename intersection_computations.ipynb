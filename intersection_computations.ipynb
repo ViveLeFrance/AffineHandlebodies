{
 "cells": [
  {
   "cell_type": "code",
   "execution_count": 2,
   "id": "a315cac2",
   "metadata": {},
   "outputs": [],
   "source": [
    "from sympy import Matrix, ZZ, CC, symbols\n",
    "from sympy.matrices.normalforms import smith_normal_form"
   ]
  },
  {
   "cell_type": "code",
   "execution_count": 3,
   "id": "23a0b7a2",
   "metadata": {},
   "outputs": [
    {
     "name": "stdout",
     "output_type": "stream",
     "text": [
      "Matrix([[-1, 0, 0, 0, 0, 0, 0], [0, -1, 0, 0, 0, 0, 0], [0, 0, -1, 0, 0, 0, 0], [0, 0, 0, 1, 0, 0, 0], [0, 0, 0, 0, 1, 0, 0], [0, 0, 0, 0, 0, -1, 0], [0, 0, 0, 0, 0, 0, -1]])\n",
      "-1\n"
     ]
    }
   ],
   "source": [
    "Mp1 = Matrix([\n",
    "    [-1,1,0,0,0,0,1],\n",
    "    [1,-2,1,0,0,0,0],\n",
    "    [0,1,-2,1,0,0,0],\n",
    "    [0,0,1,-1,1,0,0],\n",
    "    [0,0,0,1,-2,1,0],\n",
    "    [0,0,0,0,1,-1,1],\n",
    "    [1,0,0,0,0,1,-2]\n",
    "])\n",
    "\n",
    "snf1 = smith_normal_form(Mp1, domain=ZZ)\n",
    "print(snf1)\n",
    "print(snf1.det())\n"
   ]
  },
  {
   "cell_type": "code",
   "execution_count": 4,
   "id": "f71dc24f",
   "metadata": {},
   "outputs": [
    {
     "name": "stdout",
     "output_type": "stream",
     "text": [
      "Matrix([[-1, 0, 0, 0, 0, 0], [0, -1, 0, 0, 0, 0], [0, 0, 1, 0, 0, 0], [0, 0, 0, 1, 0, 0], [0, 0, 0, 0, -1, 0], [0, 0, 0, 0, 0, -2]])\n",
      "2\n"
     ]
    }
   ],
   "source": [
    "Mp2 = Matrix([\n",
    "    [-1,1,0,0,0,1],\n",
    "    [1,-2,1,0,0,0],\n",
    "    [0,1,-1,1,0,0],\n",
    "    [0,0,1,-2,1,0],\n",
    "    [0,0,0,1,-1,1],\n",
    "    [1,0,0,0,1,-2],\n",
    "])\n",
    "\n",
    "\n",
    "snf2 = smith_normal_form(Mp2, domain=ZZ)\n",
    "print(snf2)\n",
    "print(snf2.det())"
   ]
  },
  {
   "cell_type": "code",
   "execution_count": 6,
   "id": "88580582",
   "metadata": {},
   "outputs": [
    {
     "name": "stdout",
     "output_type": "stream",
     "text": [
      "Matrix([[-1, 0, 0, 0, 0], [0, 1, 0, 0, 0], [0, 0, 1, 0, 0], [0, 0, 0, -2, 0], [0, 0, 0, 0, -2]])\n",
      "-4\n"
     ]
    }
   ],
   "source": [
    "Mp3d6 = Matrix([\n",
    "    [-1,1,0,0,1],\n",
    "    [1,-1,1,0,0],\n",
    "    [0,1,-1,1,0],\n",
    "    [0,0,1,-2,1],\n",
    "    [1,0,0,1,-2],\n",
    "])\n",
    "\n",
    "\n",
    "snf3d6 = smith_normal_form(Mp3d6, domain=ZZ)\n",
    "print(snf3d6)\n",
    "print(snf3d6.det())"
   ]
  },
  {
   "cell_type": "code",
   "execution_count": 8,
   "id": "4021b0b1",
   "metadata": {},
   "outputs": [
    {
     "name": "stdout",
     "output_type": "stream",
     "text": [
      "Matrix([[-1, 0, 0, 0, 0, 0], [0, 1, 0, 0, 0, 0], [0, 0, 1, 0, 0, 0], [0, 0, 0, 1, 0, 0], [0, 0, 0, 0, 1, 0], [0, 0, 0, 0, 0, -4]])\n",
      "4\n"
     ]
    }
   ],
   "source": [
    "Mp3d7 = Matrix([\n",
    "    [-1,1,0,0,0,1],\n",
    "    [1,-1,1,0,0,0],\n",
    "    [0,1,-1,1,0,0],\n",
    "    [0,0,1,-2,1,0],\n",
    "    [0,0,0,1,-2,1],\n",
    "    [1,0,0,0,1,-2]\n",
    "])\n",
    "snf3d6 = smith_normal_form(Mp3d7, domain=ZZ)\n",
    "print(snf3d6)\n",
    "print(snf3d6.det())"
   ]
  },
  {
   "cell_type": "code",
   "execution_count": 43,
   "id": "8175c88c",
   "metadata": {},
   "outputs": [
    {
     "name": "stdout",
     "output_type": "stream",
     "text": [
      "1\n",
      "-1\n"
     ]
    }
   ],
   "source": [
    "# Mp3d8 = Matrix([\n",
    "#     [-1,1,0,0,0,0,1],\n",
    "#     [1,-1,1,0,0,0,0],\n",
    "#     [0,1,-1,1,0,0,0],\n",
    "#     [0,0,1,-2,1,0,0],\n",
    "#     [0,0,0,1,-2,1,0],\n",
    "#     [0,0,0,0,1,-2,1],\n",
    "#     [1,0,0,0,0,1,-2]\n",
    "# ])\n",
    "\n",
    "\n",
    "\n",
    "# delete first 2 lines at infinity, keep only one adjacent to an exceptional divisor\n",
    "Mp3d8 = Matrix([\n",
    "\n",
    "    [-1,1,0,0,0],\n",
    "    [1,-2,1,0,0],\n",
    "    [0,1,-2,1,0],\n",
    "    [0,0,1,-2,1],\n",
    "    [0,0,0,1,-2]\n",
    "])\n",
    "\n",
    "# checking some different classes to get a basis of H_2(X)\n",
    "# lines\n",
    "l0 = [0,0,0,0,0,-1]\n",
    "l1 = [1,0,0,0,0,-1]\n",
    "l2 = [0,1,0,0,0,-1]\n",
    "# quadrics\n",
    "q2 = [2,0,0,0,0,0]\n",
    "# hyperplane\n",
    "h = [1,0,0,0,0,3]\n",
    "\n",
    "Mprime = Matrix([\n",
    "    [-1,1,0,0,0,0],\n",
    "    [1,-2,1,0,0,0],\n",
    "    [0,1,-2,1,0,0],\n",
    "    [0,0,1,-2,1,0],\n",
    "    [0,0,0,1,-2,0],\n",
    "    l0\n",
    "])\n",
    "print(Mprime.det())\n",
    "\n",
    "# has det 1 with l0\n",
    "\n",
    "Mpprime = Matrix([\n",
    "    [-1,1,0,0,0,0,0],\n",
    "    [1,-2,1,0,0,0,0],\n",
    "    [0,1,-2,1,0,0,0],\n",
    "    [0,0,1,-2,1,0,0],\n",
    "    [0,0,0,1,-2,0,0],\n",
    "    [0,0,0,0,0,-1,0],\n",
    "    [0,0,0,0,0,0,-1]\n",
    "])\n",
    "print(Mpprime.det())\n",
    "\n",
    "# snfp3d8  = smith_normal_form(Mp3d8, domain=ZZ)\n",
    "# print(snfp3d8)\n",
    "# print(snfp3d8.det())"
   ]
  },
  {
   "cell_type": "code",
   "execution_count": 50,
   "id": "251755e5",
   "metadata": {},
   "outputs": [
    {
     "name": "stdout",
     "output_type": "stream",
     "text": [
      "Matrix([[1, 0, 0, 0, 0, 0, 0], [0, 1, 0, 0, 0, 0, 0], [0, 0, 1, 0, 0, 0, 0], [0, 0, 0, 1, 0, 0, 0], [0, 0, 0, 0, 1, 0, 0], [0, 0, 0, 0, 0, -1, 0], [0, 0, 0, 0, 0, 0, 1]])\n"
     ]
    }
   ],
   "source": [
    "Q = Matrix([\n",
    "    [0,1,-1,1,0,0,0],\n",
    "    [0,0,1,-2,1,0,0],\n",
    "    [0,0,0,1,-2,1,0],\n",
    "    [0,0,0,0,1,-2,1],\n",
    "    [1,0,0,0,0,1,-2],\n",
    "    [1,0,0,0,0,0,0],\n",
    "    [0,1,0,0,0,0,0]\n",
    "])\n",
    "\n",
    "print(smith_normal_form(Q, domain=ZZ))"
   ]
  },
  {
   "cell_type": "code",
   "execution_count": 5,
   "id": "959c67af",
   "metadata": {},
   "outputs": [
    {
     "name": "stdout",
     "output_type": "stream",
     "text": [
      "Matrix([[-1, 0, 0, 0, 0], [0, 1, 0, 0, 0], [0, 0, 1, 0, 0], [0, 0, 0, -1, 0], [0, 0, 0, 0, -3]])\n",
      "-3\n",
      "3\n"
     ]
    }
   ],
   "source": [
    "Mp4 = Matrix([\n",
    "    [-1,1,0,0,1],\n",
    "    [1,-1,1,0,0],\n",
    "    [0,1,-2,1,0],\n",
    "    [0,0,1,-1,1],\n",
    "    [1,0,0,1,-2],\n",
    "])\n",
    "snf4 = smith_normal_form(Mp4, domain=ZZ)\n",
    "print(snf4)\n",
    "print(snf4.det())\n",
    "print(Mp4.det())"
   ]
  },
  {
   "cell_type": "code",
   "execution_count": 10,
   "id": "ed1d84aa",
   "metadata": {},
   "outputs": [
    {
     "name": "stdout",
     "output_type": "stream",
     "text": [
      "Matrix([[-1, 0, 0, 0], [0, 1, 0, 0], [0, 0, 1, 0], [0, 0, 0, -4]])\n",
      "4\n"
     ]
    }
   ],
   "source": [
    "Mp5 = Matrix([\n",
    "    [-1,1,0,1],\n",
    "    [1,-1,1,0],\n",
    "    [0,1,-1,1],\n",
    "    [1,0,1,-2],\n",
    "])\n",
    "snf5 = smith_normal_form(Mp5, domain=ZZ)\n",
    "print(snf5)\n",
    "print(snf5.det())"
   ]
  },
  {
   "cell_type": "code",
   "execution_count": 11,
   "id": "3e2eb1a7",
   "metadata": {},
   "outputs": [
    {
     "name": "stdout",
     "output_type": "stream",
     "text": [
      "Matrix([[-1, 0, 0], [0, 2, 0], [0, 0, 2]])\n",
      "-4\n"
     ]
    }
   ],
   "source": [
    "Mp6 = Matrix([\n",
    "    [-1,1,1],\n",
    "    [1,-1,1],\n",
    "    [1,1,-1]])\n",
    "snfp6 = smith_normal_form(Mp6, domain=ZZ)\n",
    "print(snfp6)\n",
    "print(snfp6.det())"
   ]
  }
 ],
 "metadata": {
  "kernelspec": {
   "display_name": "SageMath 10.6.beta7",
   "language": "sage",
   "name": "sagemath"
  },
  "language_info": {
   "codemirror_mode": {
    "name": "ipython",
    "version": 3
   },
   "file_extension": ".py",
   "mimetype": "text/x-python",
   "name": "python",
   "nbconvert_exporter": "python",
   "pygments_lexer": "ipython3",
   "version": "3.12.5"
  }
 },
 "nbformat": 4,
 "nbformat_minor": 5
}
